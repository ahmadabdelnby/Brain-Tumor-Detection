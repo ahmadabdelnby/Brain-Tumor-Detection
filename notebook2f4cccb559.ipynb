{
 "cells": [
  {
   "cell_type": "code",
   "execution_count": 35,
   "metadata": {
    "_cell_guid": "b1076dfc-b9ad-4769-8c92-a6c4dae69d19",
    "_uuid": "8f2839f25d086af736a60e9eeb907d3b93b6e0e5",
    "execution": {
     "iopub.execute_input": "2022-09-17T13:38:44.813257Z",
     "iopub.status.busy": "2022-09-17T13:38:44.812255Z",
     "iopub.status.idle": "2022-09-17T13:38:44.824124Z",
     "shell.execute_reply": "2022-09-17T13:38:44.82273Z",
     "shell.execute_reply.started": "2022-09-17T13:38:44.813167Z"
    }
   },
   "outputs": [],
   "source": [
    "\n",
    "import numpy as np # linear algebra\n",
    "import pandas as pd # data processing, CSV file I/O (e.g. pd.read_csv)\n",
    "from sklearn.neighbors import KNeighborsClassifier\n"
   ]
  },
  {
   "cell_type": "markdown",
   "metadata": {},
   "source": [
    "# READING DATA"
   ]
  },
  {
   "cell_type": "code",
   "execution_count": 2,
   "metadata": {
    "execution": {
     "iopub.execute_input": "2022-09-17T13:38:44.827315Z",
     "iopub.status.busy": "2022-09-17T13:38:44.826106Z",
     "iopub.status.idle": "2022-09-17T13:38:44.845064Z",
     "shell.execute_reply": "2022-09-17T13:38:44.84327Z",
     "shell.execute_reply.started": "2022-09-17T13:38:44.827264Z"
    }
   },
   "outputs": [],
   "source": [
    "#Reading the csv file\n",
    "df = pd.read_csv('Brain Tumor.csv')"
   ]
  },
  {
   "cell_type": "code",
   "execution_count": 3,
   "metadata": {
    "execution": {
     "iopub.execute_input": "2022-09-17T13:38:44.848296Z",
     "iopub.status.busy": "2022-09-17T13:38:44.847703Z",
     "iopub.status.idle": "2022-09-17T13:38:44.871348Z",
     "shell.execute_reply": "2022-09-17T13:38:44.86983Z",
     "shell.execute_reply.started": "2022-09-17T13:38:44.848227Z"
    }
   },
   "outputs": [
    {
     "data": {
      "text/html": [
       "<div>\n",
       "<style scoped>\n",
       "    .dataframe tbody tr th:only-of-type {\n",
       "        vertical-align: middle;\n",
       "    }\n",
       "\n",
       "    .dataframe tbody tr th {\n",
       "        vertical-align: top;\n",
       "    }\n",
       "\n",
       "    .dataframe thead th {\n",
       "        text-align: right;\n",
       "    }\n",
       "</style>\n",
       "<table border=\"1\" class=\"dataframe\">\n",
       "  <thead>\n",
       "    <tr style=\"text-align: right;\">\n",
       "      <th></th>\n",
       "      <th>Class</th>\n",
       "      <th>Mean</th>\n",
       "      <th>Variance</th>\n",
       "      <th>Standard Deviation</th>\n",
       "      <th>Entropy</th>\n",
       "      <th>Skewness</th>\n",
       "      <th>Kurtosis</th>\n",
       "      <th>Contrast</th>\n",
       "      <th>Energy</th>\n",
       "      <th>ASM</th>\n",
       "      <th>Homogeneity</th>\n",
       "      <th>Dissimilarity</th>\n",
       "      <th>Correlation</th>\n",
       "    </tr>\n",
       "  </thead>\n",
       "  <tbody>\n",
       "    <tr>\n",
       "      <th>0</th>\n",
       "      <td>0</td>\n",
       "      <td>6.535339</td>\n",
       "      <td>619.587845</td>\n",
       "      <td>24.891522</td>\n",
       "      <td>0.109059</td>\n",
       "      <td>4.276477</td>\n",
       "      <td>18.900575</td>\n",
       "      <td>98.613971</td>\n",
       "      <td>0.293314</td>\n",
       "      <td>0.086033</td>\n",
       "      <td>0.530941</td>\n",
       "      <td>4.473346</td>\n",
       "      <td>0.981939</td>\n",
       "    </tr>\n",
       "    <tr>\n",
       "      <th>1</th>\n",
       "      <td>0</td>\n",
       "      <td>8.749969</td>\n",
       "      <td>805.957634</td>\n",
       "      <td>28.389393</td>\n",
       "      <td>0.266538</td>\n",
       "      <td>3.718116</td>\n",
       "      <td>14.464618</td>\n",
       "      <td>63.858816</td>\n",
       "      <td>0.475051</td>\n",
       "      <td>0.225674</td>\n",
       "      <td>0.651352</td>\n",
       "      <td>3.220072</td>\n",
       "      <td>0.988834</td>\n",
       "    </tr>\n",
       "    <tr>\n",
       "      <th>2</th>\n",
       "      <td>1</td>\n",
       "      <td>7.341095</td>\n",
       "      <td>1143.808219</td>\n",
       "      <td>33.820234</td>\n",
       "      <td>0.001467</td>\n",
       "      <td>5.061750</td>\n",
       "      <td>26.479563</td>\n",
       "      <td>81.867206</td>\n",
       "      <td>0.031917</td>\n",
       "      <td>0.001019</td>\n",
       "      <td>0.268275</td>\n",
       "      <td>5.981800</td>\n",
       "      <td>0.978014</td>\n",
       "    </tr>\n",
       "    <tr>\n",
       "      <th>3</th>\n",
       "      <td>1</td>\n",
       "      <td>5.958145</td>\n",
       "      <td>959.711985</td>\n",
       "      <td>30.979219</td>\n",
       "      <td>0.001477</td>\n",
       "      <td>5.677977</td>\n",
       "      <td>33.428845</td>\n",
       "      <td>151.229741</td>\n",
       "      <td>0.032024</td>\n",
       "      <td>0.001026</td>\n",
       "      <td>0.243851</td>\n",
       "      <td>7.700919</td>\n",
       "      <td>0.964189</td>\n",
       "    </tr>\n",
       "    <tr>\n",
       "      <th>4</th>\n",
       "      <td>0</td>\n",
       "      <td>7.315231</td>\n",
       "      <td>729.540579</td>\n",
       "      <td>27.010009</td>\n",
       "      <td>0.146761</td>\n",
       "      <td>4.283221</td>\n",
       "      <td>19.079108</td>\n",
       "      <td>174.988756</td>\n",
       "      <td>0.343849</td>\n",
       "      <td>0.118232</td>\n",
       "      <td>0.501140</td>\n",
       "      <td>6.834689</td>\n",
       "      <td>0.972789</td>\n",
       "    </tr>\n",
       "    <tr>\n",
       "      <th>...</th>\n",
       "      <td>...</td>\n",
       "      <td>...</td>\n",
       "      <td>...</td>\n",
       "      <td>...</td>\n",
       "      <td>...</td>\n",
       "      <td>...</td>\n",
       "      <td>...</td>\n",
       "      <td>...</td>\n",
       "      <td>...</td>\n",
       "      <td>...</td>\n",
       "      <td>...</td>\n",
       "      <td>...</td>\n",
       "      <td>...</td>\n",
       "    </tr>\n",
       "    <tr>\n",
       "      <th>3757</th>\n",
       "      <td>0</td>\n",
       "      <td>21.234512</td>\n",
       "      <td>1208.850174</td>\n",
       "      <td>34.768523</td>\n",
       "      <td>0.063774</td>\n",
       "      <td>2.082079</td>\n",
       "      <td>4.647310</td>\n",
       "      <td>158.437600</td>\n",
       "      <td>0.220666</td>\n",
       "      <td>0.048693</td>\n",
       "      <td>0.487131</td>\n",
       "      <td>5.211739</td>\n",
       "      <td>0.950972</td>\n",
       "    </tr>\n",
       "    <tr>\n",
       "      <th>3758</th>\n",
       "      <td>0</td>\n",
       "      <td>20.435349</td>\n",
       "      <td>1227.151440</td>\n",
       "      <td>35.030721</td>\n",
       "      <td>0.066763</td>\n",
       "      <td>2.144625</td>\n",
       "      <td>4.882034</td>\n",
       "      <td>161.158675</td>\n",
       "      <td>0.225931</td>\n",
       "      <td>0.051045</td>\n",
       "      <td>0.502712</td>\n",
       "      <td>5.083126</td>\n",
       "      <td>0.952749</td>\n",
       "    </tr>\n",
       "    <tr>\n",
       "      <th>3759</th>\n",
       "      <td>0</td>\n",
       "      <td>18.011520</td>\n",
       "      <td>1151.582765</td>\n",
       "      <td>33.934978</td>\n",
       "      <td>0.068396</td>\n",
       "      <td>2.308349</td>\n",
       "      <td>5.579498</td>\n",
       "      <td>167.130118</td>\n",
       "      <td>0.228930</td>\n",
       "      <td>0.052409</td>\n",
       "      <td>0.492269</td>\n",
       "      <td>5.103700</td>\n",
       "      <td>0.952181</td>\n",
       "    </tr>\n",
       "    <tr>\n",
       "      <th>3760</th>\n",
       "      <td>0</td>\n",
       "      <td>13.330429</td>\n",
       "      <td>945.732779</td>\n",
       "      <td>30.752769</td>\n",
       "      <td>0.087872</td>\n",
       "      <td>2.732822</td>\n",
       "      <td>7.757570</td>\n",
       "      <td>223.812932</td>\n",
       "      <td>0.261527</td>\n",
       "      <td>0.068397</td>\n",
       "      <td>0.480064</td>\n",
       "      <td>6.439784</td>\n",
       "      <td>0.940898</td>\n",
       "    </tr>\n",
       "    <tr>\n",
       "      <th>3761</th>\n",
       "      <td>0</td>\n",
       "      <td>6.110138</td>\n",
       "      <td>480.884025</td>\n",
       "      <td>21.929068</td>\n",
       "      <td>0.118171</td>\n",
       "      <td>4.110669</td>\n",
       "      <td>17.538826</td>\n",
       "      <td>239.251388</td>\n",
       "      <td>0.306224</td>\n",
       "      <td>0.093773</td>\n",
       "      <td>0.494333</td>\n",
       "      <td>6.787329</td>\n",
       "      <td>0.938731</td>\n",
       "    </tr>\n",
       "  </tbody>\n",
       "</table>\n",
       "<p>3762 rows × 13 columns</p>\n",
       "</div>"
      ],
      "text/plain": [
       "      Class       Mean     Variance  Standard Deviation   Entropy  Skewness  \\\n",
       "0         0   6.535339   619.587845           24.891522  0.109059  4.276477   \n",
       "1         0   8.749969   805.957634           28.389393  0.266538  3.718116   \n",
       "2         1   7.341095  1143.808219           33.820234  0.001467  5.061750   \n",
       "3         1   5.958145   959.711985           30.979219  0.001477  5.677977   \n",
       "4         0   7.315231   729.540579           27.010009  0.146761  4.283221   \n",
       "...     ...        ...          ...                 ...       ...       ...   \n",
       "3757      0  21.234512  1208.850174           34.768523  0.063774  2.082079   \n",
       "3758      0  20.435349  1227.151440           35.030721  0.066763  2.144625   \n",
       "3759      0  18.011520  1151.582765           33.934978  0.068396  2.308349   \n",
       "3760      0  13.330429   945.732779           30.752769  0.087872  2.732822   \n",
       "3761      0   6.110138   480.884025           21.929068  0.118171  4.110669   \n",
       "\n",
       "       Kurtosis    Contrast    Energy       ASM  Homogeneity  Dissimilarity  \\\n",
       "0     18.900575   98.613971  0.293314  0.086033     0.530941       4.473346   \n",
       "1     14.464618   63.858816  0.475051  0.225674     0.651352       3.220072   \n",
       "2     26.479563   81.867206  0.031917  0.001019     0.268275       5.981800   \n",
       "3     33.428845  151.229741  0.032024  0.001026     0.243851       7.700919   \n",
       "4     19.079108  174.988756  0.343849  0.118232     0.501140       6.834689   \n",
       "...         ...         ...       ...       ...          ...            ...   \n",
       "3757   4.647310  158.437600  0.220666  0.048693     0.487131       5.211739   \n",
       "3758   4.882034  161.158675  0.225931  0.051045     0.502712       5.083126   \n",
       "3759   5.579498  167.130118  0.228930  0.052409     0.492269       5.103700   \n",
       "3760   7.757570  223.812932  0.261527  0.068397     0.480064       6.439784   \n",
       "3761  17.538826  239.251388  0.306224  0.093773     0.494333       6.787329   \n",
       "\n",
       "      Correlation  \n",
       "0        0.981939  \n",
       "1        0.988834  \n",
       "2        0.978014  \n",
       "3        0.964189  \n",
       "4        0.972789  \n",
       "...           ...  \n",
       "3757     0.950972  \n",
       "3758     0.952749  \n",
       "3759     0.952181  \n",
       "3760     0.940898  \n",
       "3761     0.938731  \n",
       "\n",
       "[3762 rows x 13 columns]"
      ]
     },
     "execution_count": 3,
     "metadata": {},
     "output_type": "execute_result"
    }
   ],
   "source": [
    "#Showing the dataset\n",
    "df"
   ]
  },
  {
   "cell_type": "code",
   "execution_count": 4,
   "metadata": {
    "execution": {
     "iopub.execute_input": "2022-09-17T13:38:44.87435Z",
     "iopub.status.busy": "2022-09-17T13:38:44.873687Z",
     "iopub.status.idle": "2022-09-17T13:38:44.887324Z",
     "shell.execute_reply": "2022-09-17T13:38:44.885942Z",
     "shell.execute_reply.started": "2022-09-17T13:38:44.874306Z"
    }
   },
   "outputs": [
    {
     "data": {
      "text/plain": [
       "(3762, 13)"
      ]
     },
     "execution_count": 4,
     "metadata": {},
     "output_type": "execute_result"
    }
   ],
   "source": [
    "#Showing the total number of rows and columns\n",
    "df.shape"
   ]
  },
  {
   "cell_type": "code",
   "execution_count": 5,
   "metadata": {
    "execution": {
     "iopub.execute_input": "2022-09-17T13:38:44.889383Z",
     "iopub.status.busy": "2022-09-17T13:38:44.888935Z",
     "iopub.status.idle": "2022-09-17T13:38:44.913603Z",
     "shell.execute_reply": "2022-09-17T13:38:44.911703Z",
     "shell.execute_reply.started": "2022-09-17T13:38:44.889342Z"
    }
   },
   "outputs": [
    {
     "data": {
      "text/html": [
       "<div>\n",
       "<style scoped>\n",
       "    .dataframe tbody tr th:only-of-type {\n",
       "        vertical-align: middle;\n",
       "    }\n",
       "\n",
       "    .dataframe tbody tr th {\n",
       "        vertical-align: top;\n",
       "    }\n",
       "\n",
       "    .dataframe thead th {\n",
       "        text-align: right;\n",
       "    }\n",
       "</style>\n",
       "<table border=\"1\" class=\"dataframe\">\n",
       "  <thead>\n",
       "    <tr style=\"text-align: right;\">\n",
       "      <th></th>\n",
       "      <th>Class</th>\n",
       "      <th>Mean</th>\n",
       "      <th>Variance</th>\n",
       "      <th>Standard Deviation</th>\n",
       "      <th>Entropy</th>\n",
       "      <th>Skewness</th>\n",
       "      <th>Kurtosis</th>\n",
       "      <th>Contrast</th>\n",
       "      <th>Energy</th>\n",
       "      <th>ASM</th>\n",
       "      <th>Homogeneity</th>\n",
       "      <th>Dissimilarity</th>\n",
       "      <th>Correlation</th>\n",
       "    </tr>\n",
       "  </thead>\n",
       "  <tbody>\n",
       "    <tr>\n",
       "      <th>0</th>\n",
       "      <td>0</td>\n",
       "      <td>6.535339</td>\n",
       "      <td>619.587845</td>\n",
       "      <td>24.891522</td>\n",
       "      <td>0.109059</td>\n",
       "      <td>4.276477</td>\n",
       "      <td>18.900575</td>\n",
       "      <td>98.613971</td>\n",
       "      <td>0.293314</td>\n",
       "      <td>0.086033</td>\n",
       "      <td>0.530941</td>\n",
       "      <td>4.473346</td>\n",
       "      <td>0.981939</td>\n",
       "    </tr>\n",
       "    <tr>\n",
       "      <th>1</th>\n",
       "      <td>0</td>\n",
       "      <td>8.749969</td>\n",
       "      <td>805.957634</td>\n",
       "      <td>28.389393</td>\n",
       "      <td>0.266538</td>\n",
       "      <td>3.718116</td>\n",
       "      <td>14.464618</td>\n",
       "      <td>63.858816</td>\n",
       "      <td>0.475051</td>\n",
       "      <td>0.225674</td>\n",
       "      <td>0.651352</td>\n",
       "      <td>3.220072</td>\n",
       "      <td>0.988834</td>\n",
       "    </tr>\n",
       "    <tr>\n",
       "      <th>2</th>\n",
       "      <td>1</td>\n",
       "      <td>7.341095</td>\n",
       "      <td>1143.808219</td>\n",
       "      <td>33.820234</td>\n",
       "      <td>0.001467</td>\n",
       "      <td>5.061750</td>\n",
       "      <td>26.479563</td>\n",
       "      <td>81.867206</td>\n",
       "      <td>0.031917</td>\n",
       "      <td>0.001019</td>\n",
       "      <td>0.268275</td>\n",
       "      <td>5.981800</td>\n",
       "      <td>0.978014</td>\n",
       "    </tr>\n",
       "    <tr>\n",
       "      <th>3</th>\n",
       "      <td>1</td>\n",
       "      <td>5.958145</td>\n",
       "      <td>959.711985</td>\n",
       "      <td>30.979219</td>\n",
       "      <td>0.001477</td>\n",
       "      <td>5.677977</td>\n",
       "      <td>33.428845</td>\n",
       "      <td>151.229741</td>\n",
       "      <td>0.032024</td>\n",
       "      <td>0.001026</td>\n",
       "      <td>0.243851</td>\n",
       "      <td>7.700919</td>\n",
       "      <td>0.964189</td>\n",
       "    </tr>\n",
       "    <tr>\n",
       "      <th>4</th>\n",
       "      <td>0</td>\n",
       "      <td>7.315231</td>\n",
       "      <td>729.540579</td>\n",
       "      <td>27.010009</td>\n",
       "      <td>0.146761</td>\n",
       "      <td>4.283221</td>\n",
       "      <td>19.079108</td>\n",
       "      <td>174.988756</td>\n",
       "      <td>0.343849</td>\n",
       "      <td>0.118232</td>\n",
       "      <td>0.501140</td>\n",
       "      <td>6.834689</td>\n",
       "      <td>0.972789</td>\n",
       "    </tr>\n",
       "  </tbody>\n",
       "</table>\n",
       "</div>"
      ],
      "text/plain": [
       "   Class      Mean     Variance  Standard Deviation   Entropy  Skewness  \\\n",
       "0      0  6.535339   619.587845           24.891522  0.109059  4.276477   \n",
       "1      0  8.749969   805.957634           28.389393  0.266538  3.718116   \n",
       "2      1  7.341095  1143.808219           33.820234  0.001467  5.061750   \n",
       "3      1  5.958145   959.711985           30.979219  0.001477  5.677977   \n",
       "4      0  7.315231   729.540579           27.010009  0.146761  4.283221   \n",
       "\n",
       "    Kurtosis    Contrast    Energy       ASM  Homogeneity  Dissimilarity  \\\n",
       "0  18.900575   98.613971  0.293314  0.086033     0.530941       4.473346   \n",
       "1  14.464618   63.858816  0.475051  0.225674     0.651352       3.220072   \n",
       "2  26.479563   81.867206  0.031917  0.001019     0.268275       5.981800   \n",
       "3  33.428845  151.229741  0.032024  0.001026     0.243851       7.700919   \n",
       "4  19.079108  174.988756  0.343849  0.118232     0.501140       6.834689   \n",
       "\n",
       "   Correlation  \n",
       "0     0.981939  \n",
       "1     0.988834  \n",
       "2     0.978014  \n",
       "3     0.964189  \n",
       "4     0.972789  "
      ]
     },
     "execution_count": 5,
     "metadata": {},
     "output_type": "execute_result"
    }
   ],
   "source": [
    "df.head()"
   ]
  },
  {
   "cell_type": "code",
   "execution_count": 6,
   "metadata": {
    "execution": {
     "iopub.execute_input": "2022-09-17T13:38:44.917169Z",
     "iopub.status.busy": "2022-09-17T13:38:44.916643Z",
     "iopub.status.idle": "2022-09-17T13:38:44.935825Z",
     "shell.execute_reply": "2022-09-17T13:38:44.93434Z",
     "shell.execute_reply.started": "2022-09-17T13:38:44.91712Z"
    }
   },
   "outputs": [
    {
     "data": {
      "text/html": [
       "<div>\n",
       "<style scoped>\n",
       "    .dataframe tbody tr th:only-of-type {\n",
       "        vertical-align: middle;\n",
       "    }\n",
       "\n",
       "    .dataframe tbody tr th {\n",
       "        vertical-align: top;\n",
       "    }\n",
       "\n",
       "    .dataframe thead th {\n",
       "        text-align: right;\n",
       "    }\n",
       "</style>\n",
       "<table border=\"1\" class=\"dataframe\">\n",
       "  <thead>\n",
       "    <tr style=\"text-align: right;\">\n",
       "      <th></th>\n",
       "      <th>Class</th>\n",
       "      <th>Mean</th>\n",
       "      <th>Variance</th>\n",
       "      <th>Standard Deviation</th>\n",
       "      <th>Entropy</th>\n",
       "      <th>Skewness</th>\n",
       "      <th>Kurtosis</th>\n",
       "      <th>Contrast</th>\n",
       "      <th>Energy</th>\n",
       "      <th>ASM</th>\n",
       "      <th>Homogeneity</th>\n",
       "      <th>Dissimilarity</th>\n",
       "      <th>Correlation</th>\n",
       "    </tr>\n",
       "  </thead>\n",
       "  <tbody>\n",
       "    <tr>\n",
       "      <th>3757</th>\n",
       "      <td>0</td>\n",
       "      <td>21.234512</td>\n",
       "      <td>1208.850174</td>\n",
       "      <td>34.768523</td>\n",
       "      <td>0.063774</td>\n",
       "      <td>2.082079</td>\n",
       "      <td>4.647310</td>\n",
       "      <td>158.437600</td>\n",
       "      <td>0.220666</td>\n",
       "      <td>0.048693</td>\n",
       "      <td>0.487131</td>\n",
       "      <td>5.211739</td>\n",
       "      <td>0.950972</td>\n",
       "    </tr>\n",
       "    <tr>\n",
       "      <th>3758</th>\n",
       "      <td>0</td>\n",
       "      <td>20.435349</td>\n",
       "      <td>1227.151440</td>\n",
       "      <td>35.030721</td>\n",
       "      <td>0.066763</td>\n",
       "      <td>2.144625</td>\n",
       "      <td>4.882034</td>\n",
       "      <td>161.158675</td>\n",
       "      <td>0.225931</td>\n",
       "      <td>0.051045</td>\n",
       "      <td>0.502712</td>\n",
       "      <td>5.083126</td>\n",
       "      <td>0.952749</td>\n",
       "    </tr>\n",
       "    <tr>\n",
       "      <th>3759</th>\n",
       "      <td>0</td>\n",
       "      <td>18.011520</td>\n",
       "      <td>1151.582765</td>\n",
       "      <td>33.934978</td>\n",
       "      <td>0.068396</td>\n",
       "      <td>2.308349</td>\n",
       "      <td>5.579498</td>\n",
       "      <td>167.130118</td>\n",
       "      <td>0.228930</td>\n",
       "      <td>0.052409</td>\n",
       "      <td>0.492269</td>\n",
       "      <td>5.103700</td>\n",
       "      <td>0.952181</td>\n",
       "    </tr>\n",
       "    <tr>\n",
       "      <th>3760</th>\n",
       "      <td>0</td>\n",
       "      <td>13.330429</td>\n",
       "      <td>945.732779</td>\n",
       "      <td>30.752769</td>\n",
       "      <td>0.087872</td>\n",
       "      <td>2.732822</td>\n",
       "      <td>7.757570</td>\n",
       "      <td>223.812932</td>\n",
       "      <td>0.261527</td>\n",
       "      <td>0.068397</td>\n",
       "      <td>0.480064</td>\n",
       "      <td>6.439784</td>\n",
       "      <td>0.940898</td>\n",
       "    </tr>\n",
       "    <tr>\n",
       "      <th>3761</th>\n",
       "      <td>0</td>\n",
       "      <td>6.110138</td>\n",
       "      <td>480.884025</td>\n",
       "      <td>21.929068</td>\n",
       "      <td>0.118171</td>\n",
       "      <td>4.110669</td>\n",
       "      <td>17.538826</td>\n",
       "      <td>239.251388</td>\n",
       "      <td>0.306224</td>\n",
       "      <td>0.093773</td>\n",
       "      <td>0.494333</td>\n",
       "      <td>6.787329</td>\n",
       "      <td>0.938731</td>\n",
       "    </tr>\n",
       "  </tbody>\n",
       "</table>\n",
       "</div>"
      ],
      "text/plain": [
       "      Class       Mean     Variance  Standard Deviation   Entropy  Skewness  \\\n",
       "3757      0  21.234512  1208.850174           34.768523  0.063774  2.082079   \n",
       "3758      0  20.435349  1227.151440           35.030721  0.066763  2.144625   \n",
       "3759      0  18.011520  1151.582765           33.934978  0.068396  2.308349   \n",
       "3760      0  13.330429   945.732779           30.752769  0.087872  2.732822   \n",
       "3761      0   6.110138   480.884025           21.929068  0.118171  4.110669   \n",
       "\n",
       "       Kurtosis    Contrast    Energy       ASM  Homogeneity  Dissimilarity  \\\n",
       "3757   4.647310  158.437600  0.220666  0.048693     0.487131       5.211739   \n",
       "3758   4.882034  161.158675  0.225931  0.051045     0.502712       5.083126   \n",
       "3759   5.579498  167.130118  0.228930  0.052409     0.492269       5.103700   \n",
       "3760   7.757570  223.812932  0.261527  0.068397     0.480064       6.439784   \n",
       "3761  17.538826  239.251388  0.306224  0.093773     0.494333       6.787329   \n",
       "\n",
       "      Correlation  \n",
       "3757     0.950972  \n",
       "3758     0.952749  \n",
       "3759     0.952181  \n",
       "3760     0.940898  \n",
       "3761     0.938731  "
      ]
     },
     "execution_count": 6,
     "metadata": {},
     "output_type": "execute_result"
    }
   ],
   "source": [
    "df.tail()"
   ]
  },
  {
   "cell_type": "code",
   "execution_count": 7,
   "metadata": {
    "execution": {
     "iopub.execute_input": "2022-09-17T13:38:44.938596Z",
     "iopub.status.busy": "2022-09-17T13:38:44.938074Z",
     "iopub.status.idle": "2022-09-17T13:38:45.003474Z",
     "shell.execute_reply": "2022-09-17T13:38:45.002018Z",
     "shell.execute_reply.started": "2022-09-17T13:38:44.938547Z"
    },
    "scrolled": true
   },
   "outputs": [
    {
     "data": {
      "text/html": [
       "<div>\n",
       "<style scoped>\n",
       "    .dataframe tbody tr th:only-of-type {\n",
       "        vertical-align: middle;\n",
       "    }\n",
       "\n",
       "    .dataframe tbody tr th {\n",
       "        vertical-align: top;\n",
       "    }\n",
       "\n",
       "    .dataframe thead th {\n",
       "        text-align: right;\n",
       "    }\n",
       "</style>\n",
       "<table border=\"1\" class=\"dataframe\">\n",
       "  <thead>\n",
       "    <tr style=\"text-align: right;\">\n",
       "      <th></th>\n",
       "      <th>Class</th>\n",
       "      <th>Mean</th>\n",
       "      <th>Variance</th>\n",
       "      <th>Standard Deviation</th>\n",
       "      <th>Entropy</th>\n",
       "      <th>Skewness</th>\n",
       "      <th>Kurtosis</th>\n",
       "      <th>Contrast</th>\n",
       "      <th>Energy</th>\n",
       "      <th>ASM</th>\n",
       "      <th>Homogeneity</th>\n",
       "      <th>Dissimilarity</th>\n",
       "      <th>Correlation</th>\n",
       "    </tr>\n",
       "  </thead>\n",
       "  <tbody>\n",
       "    <tr>\n",
       "      <th>count</th>\n",
       "      <td>3762.000000</td>\n",
       "      <td>3762.000000</td>\n",
       "      <td>3762.000000</td>\n",
       "      <td>3762.000000</td>\n",
       "      <td>3762.000000</td>\n",
       "      <td>3762.000000</td>\n",
       "      <td>3762.000000</td>\n",
       "      <td>3762.000000</td>\n",
       "      <td>3762.000000</td>\n",
       "      <td>3762.000000</td>\n",
       "      <td>3762.000000</td>\n",
       "      <td>3762.000000</td>\n",
       "      <td>3762.000000</td>\n",
       "    </tr>\n",
       "    <tr>\n",
       "      <th>mean</th>\n",
       "      <td>0.447368</td>\n",
       "      <td>9.488890</td>\n",
       "      <td>711.101063</td>\n",
       "      <td>25.182271</td>\n",
       "      <td>0.073603</td>\n",
       "      <td>4.102727</td>\n",
       "      <td>24.389071</td>\n",
       "      <td>127.961459</td>\n",
       "      <td>0.204705</td>\n",
       "      <td>0.058632</td>\n",
       "      <td>0.479252</td>\n",
       "      <td>4.698498</td>\n",
       "      <td>0.955767</td>\n",
       "    </tr>\n",
       "    <tr>\n",
       "      <th>std</th>\n",
       "      <td>0.497288</td>\n",
       "      <td>5.728022</td>\n",
       "      <td>467.466896</td>\n",
       "      <td>8.773526</td>\n",
       "      <td>0.070269</td>\n",
       "      <td>2.560940</td>\n",
       "      <td>56.434747</td>\n",
       "      <td>109.499601</td>\n",
       "      <td>0.129352</td>\n",
       "      <td>0.058300</td>\n",
       "      <td>0.127929</td>\n",
       "      <td>1.850173</td>\n",
       "      <td>0.026157</td>\n",
       "    </tr>\n",
       "    <tr>\n",
       "      <th>min</th>\n",
       "      <td>0.000000</td>\n",
       "      <td>0.078659</td>\n",
       "      <td>3.145628</td>\n",
       "      <td>1.773592</td>\n",
       "      <td>0.000882</td>\n",
       "      <td>1.886014</td>\n",
       "      <td>3.942402</td>\n",
       "      <td>3.194733</td>\n",
       "      <td>0.024731</td>\n",
       "      <td>0.000612</td>\n",
       "      <td>0.105490</td>\n",
       "      <td>0.681121</td>\n",
       "      <td>0.549426</td>\n",
       "    </tr>\n",
       "    <tr>\n",
       "      <th>25%</th>\n",
       "      <td>0.000000</td>\n",
       "      <td>4.982395</td>\n",
       "      <td>363.225459</td>\n",
       "      <td>19.058475</td>\n",
       "      <td>0.006856</td>\n",
       "      <td>2.620203</td>\n",
       "      <td>7.252852</td>\n",
       "      <td>72.125208</td>\n",
       "      <td>0.069617</td>\n",
       "      <td>0.004847</td>\n",
       "      <td>0.364973</td>\n",
       "      <td>3.412363</td>\n",
       "      <td>0.947138</td>\n",
       "    </tr>\n",
       "    <tr>\n",
       "      <th>50%</th>\n",
       "      <td>0.000000</td>\n",
       "      <td>8.477531</td>\n",
       "      <td>622.580417</td>\n",
       "      <td>24.951560</td>\n",
       "      <td>0.066628</td>\n",
       "      <td>3.422210</td>\n",
       "      <td>12.359088</td>\n",
       "      <td>106.737418</td>\n",
       "      <td>0.225496</td>\n",
       "      <td>0.050849</td>\n",
       "      <td>0.512551</td>\n",
       "      <td>4.482404</td>\n",
       "      <td>0.961610</td>\n",
       "    </tr>\n",
       "    <tr>\n",
       "      <th>75%</th>\n",
       "      <td>1.000000</td>\n",
       "      <td>13.212723</td>\n",
       "      <td>966.954319</td>\n",
       "      <td>31.095889</td>\n",
       "      <td>0.113284</td>\n",
       "      <td>4.651737</td>\n",
       "      <td>22.640304</td>\n",
       "      <td>161.059006</td>\n",
       "      <td>0.298901</td>\n",
       "      <td>0.089342</td>\n",
       "      <td>0.575557</td>\n",
       "      <td>5.723821</td>\n",
       "      <td>0.971355</td>\n",
       "    </tr>\n",
       "    <tr>\n",
       "      <th>max</th>\n",
       "      <td>1.000000</td>\n",
       "      <td>33.239975</td>\n",
       "      <td>2910.581879</td>\n",
       "      <td>53.949809</td>\n",
       "      <td>0.394539</td>\n",
       "      <td>36.931294</td>\n",
       "      <td>1371.640060</td>\n",
       "      <td>3382.574163</td>\n",
       "      <td>0.589682</td>\n",
       "      <td>0.347725</td>\n",
       "      <td>0.810921</td>\n",
       "      <td>27.827751</td>\n",
       "      <td>0.989972</td>\n",
       "    </tr>\n",
       "  </tbody>\n",
       "</table>\n",
       "</div>"
      ],
      "text/plain": [
       "             Class         Mean     Variance  Standard Deviation      Entropy  \\\n",
       "count  3762.000000  3762.000000  3762.000000         3762.000000  3762.000000   \n",
       "mean      0.447368     9.488890   711.101063           25.182271     0.073603   \n",
       "std       0.497288     5.728022   467.466896            8.773526     0.070269   \n",
       "min       0.000000     0.078659     3.145628            1.773592     0.000882   \n",
       "25%       0.000000     4.982395   363.225459           19.058475     0.006856   \n",
       "50%       0.000000     8.477531   622.580417           24.951560     0.066628   \n",
       "75%       1.000000    13.212723   966.954319           31.095889     0.113284   \n",
       "max       1.000000    33.239975  2910.581879           53.949809     0.394539   \n",
       "\n",
       "          Skewness     Kurtosis     Contrast       Energy          ASM  \\\n",
       "count  3762.000000  3762.000000  3762.000000  3762.000000  3762.000000   \n",
       "mean      4.102727    24.389071   127.961459     0.204705     0.058632   \n",
       "std       2.560940    56.434747   109.499601     0.129352     0.058300   \n",
       "min       1.886014     3.942402     3.194733     0.024731     0.000612   \n",
       "25%       2.620203     7.252852    72.125208     0.069617     0.004847   \n",
       "50%       3.422210    12.359088   106.737418     0.225496     0.050849   \n",
       "75%       4.651737    22.640304   161.059006     0.298901     0.089342   \n",
       "max      36.931294  1371.640060  3382.574163     0.589682     0.347725   \n",
       "\n",
       "       Homogeneity  Dissimilarity  Correlation  \n",
       "count  3762.000000    3762.000000  3762.000000  \n",
       "mean      0.479252       4.698498     0.955767  \n",
       "std       0.127929       1.850173     0.026157  \n",
       "min       0.105490       0.681121     0.549426  \n",
       "25%       0.364973       3.412363     0.947138  \n",
       "50%       0.512551       4.482404     0.961610  \n",
       "75%       0.575557       5.723821     0.971355  \n",
       "max       0.810921      27.827751     0.989972  "
      ]
     },
     "execution_count": 7,
     "metadata": {},
     "output_type": "execute_result"
    }
   ],
   "source": [
    "#Showing the statistical measures of the dataset\n",
    "df.describe()"
   ]
  },
  {
   "cell_type": "code",
   "execution_count": 8,
   "metadata": {
    "execution": {
     "iopub.execute_input": "2022-09-17T13:38:45.008085Z",
     "iopub.status.busy": "2022-09-17T13:38:45.007549Z",
     "iopub.status.idle": "2022-09-17T13:38:45.018679Z",
     "shell.execute_reply": "2022-09-17T13:38:45.017361Z",
     "shell.execute_reply.started": "2022-09-17T13:38:45.008035Z"
    }
   },
   "outputs": [
    {
     "data": {
      "text/plain": [
       "Class                 0\n",
       "Mean                  0\n",
       "Variance              0\n",
       "Standard Deviation    0\n",
       "Entropy               0\n",
       "Skewness              0\n",
       "Kurtosis              0\n",
       "Contrast              0\n",
       "Energy                0\n",
       "ASM                   0\n",
       "Homogeneity           0\n",
       "Dissimilarity         0\n",
       "Correlation           0\n",
       "dtype: int64"
      ]
     },
     "execution_count": 8,
     "metadata": {},
     "output_type": "execute_result"
    }
   ],
   "source": [
    "#Showing if there are any null values in the dataset\n",
    "df.isnull().sum()"
   ]
  },
  {
   "cell_type": "code",
   "execution_count": 9,
   "metadata": {
    "execution": {
     "iopub.execute_input": "2022-09-17T13:38:45.020481Z",
     "iopub.status.busy": "2022-09-17T13:38:45.019992Z",
     "iopub.status.idle": "2022-09-17T13:38:45.037269Z",
     "shell.execute_reply": "2022-09-17T13:38:45.036364Z",
     "shell.execute_reply.started": "2022-09-17T13:38:45.020435Z"
    }
   },
   "outputs": [
    {
     "data": {
      "text/plain": [
       "0    2079\n",
       "1    1683\n",
       "Name: Class, dtype: int64"
      ]
     },
     "execution_count": 9,
     "metadata": {},
     "output_type": "execute_result"
    }
   ],
   "source": [
    "df['Class'].value_counts()"
   ]
  },
  {
   "cell_type": "code",
   "execution_count": 10,
   "metadata": {
    "execution": {
     "iopub.execute_input": "2022-09-17T13:38:45.038929Z",
     "iopub.status.busy": "2022-09-17T13:38:45.038475Z",
     "iopub.status.idle": "2022-09-17T13:38:45.069517Z",
     "shell.execute_reply": "2022-09-17T13:38:45.06735Z",
     "shell.execute_reply.started": "2022-09-17T13:38:45.038882Z"
    }
   },
   "outputs": [
    {
     "data": {
      "text/html": [
       "<div>\n",
       "<style scoped>\n",
       "    .dataframe tbody tr th:only-of-type {\n",
       "        vertical-align: middle;\n",
       "    }\n",
       "\n",
       "    .dataframe tbody tr th {\n",
       "        vertical-align: top;\n",
       "    }\n",
       "\n",
       "    .dataframe thead th {\n",
       "        text-align: right;\n",
       "    }\n",
       "</style>\n",
       "<table border=\"1\" class=\"dataframe\">\n",
       "  <thead>\n",
       "    <tr style=\"text-align: right;\">\n",
       "      <th></th>\n",
       "      <th>Mean</th>\n",
       "      <th>Variance</th>\n",
       "      <th>Standard Deviation</th>\n",
       "      <th>Entropy</th>\n",
       "      <th>Skewness</th>\n",
       "      <th>Kurtosis</th>\n",
       "      <th>Contrast</th>\n",
       "      <th>Energy</th>\n",
       "      <th>ASM</th>\n",
       "      <th>Homogeneity</th>\n",
       "      <th>Dissimilarity</th>\n",
       "      <th>Correlation</th>\n",
       "    </tr>\n",
       "    <tr>\n",
       "      <th>Class</th>\n",
       "      <th></th>\n",
       "      <th></th>\n",
       "      <th></th>\n",
       "      <th></th>\n",
       "      <th></th>\n",
       "      <th></th>\n",
       "      <th></th>\n",
       "      <th></th>\n",
       "      <th></th>\n",
       "      <th></th>\n",
       "      <th></th>\n",
       "      <th></th>\n",
       "    </tr>\n",
       "  </thead>\n",
       "  <tbody>\n",
       "    <tr>\n",
       "      <th>0</th>\n",
       "      <td>9.982184</td>\n",
       "      <td>581.230442</td>\n",
       "      <td>22.928336</td>\n",
       "      <td>0.122795</td>\n",
       "      <td>3.175090</td>\n",
       "      <td>12.212278</td>\n",
       "      <td>107.014482</td>\n",
       "      <td>0.305061</td>\n",
       "      <td>0.098400</td>\n",
       "      <td>0.576791</td>\n",
       "      <td>3.772536</td>\n",
       "      <td>0.958322</td>\n",
       "    </tr>\n",
       "    <tr>\n",
       "      <th>1</th>\n",
       "      <td>8.879527</td>\n",
       "      <td>871.529477</td>\n",
       "      <td>27.966544</td>\n",
       "      <td>0.012835</td>\n",
       "      <td>5.248631</td>\n",
       "      <td>39.430992</td>\n",
       "      <td>153.837136</td>\n",
       "      <td>0.080736</td>\n",
       "      <td>0.009505</td>\n",
       "      <td>0.358762</td>\n",
       "      <td>5.842333</td>\n",
       "      <td>0.952610</td>\n",
       "    </tr>\n",
       "  </tbody>\n",
       "</table>\n",
       "</div>"
      ],
      "text/plain": [
       "           Mean    Variance  Standard Deviation   Entropy  Skewness  \\\n",
       "Class                                                                 \n",
       "0      9.982184  581.230442           22.928336  0.122795  3.175090   \n",
       "1      8.879527  871.529477           27.966544  0.012835  5.248631   \n",
       "\n",
       "        Kurtosis    Contrast    Energy       ASM  Homogeneity  Dissimilarity  \\\n",
       "Class                                                                          \n",
       "0      12.212278  107.014482  0.305061  0.098400     0.576791       3.772536   \n",
       "1      39.430992  153.837136  0.080736  0.009505     0.358762       5.842333   \n",
       "\n",
       "       Correlation  \n",
       "Class               \n",
       "0         0.958322  \n",
       "1         0.952610  "
      ]
     },
     "execution_count": 10,
     "metadata": {},
     "output_type": "execute_result"
    }
   ],
   "source": [
    "df.groupby('Class').mean()"
   ]
  },
  {
   "cell_type": "code",
   "execution_count": 11,
   "metadata": {
    "execution": {
     "iopub.execute_input": "2022-09-17T13:38:45.072576Z",
     "iopub.status.busy": "2022-09-17T13:38:45.071658Z",
     "iopub.status.idle": "2022-09-17T13:38:45.082097Z",
     "shell.execute_reply": "2022-09-17T13:38:45.080206Z",
     "shell.execute_reply.started": "2022-09-17T13:38:45.072524Z"
    }
   },
   "outputs": [],
   "source": [
    "#Seperating the data and labels\n",
    "X = df.drop(columns = 'Class', axis = 1)\n",
    "Y = df['Class']"
   ]
  },
  {
   "cell_type": "code",
   "execution_count": 12,
   "metadata": {
    "execution": {
     "iopub.execute_input": "2022-09-17T13:38:45.085303Z",
     "iopub.status.busy": "2022-09-17T13:38:45.084798Z",
     "iopub.status.idle": "2022-09-17T13:38:45.113338Z",
     "shell.execute_reply": "2022-09-17T13:38:45.111918Z",
     "shell.execute_reply.started": "2022-09-17T13:38:45.085252Z"
    }
   },
   "outputs": [
    {
     "data": {
      "text/html": [
       "<div>\n",
       "<style scoped>\n",
       "    .dataframe tbody tr th:only-of-type {\n",
       "        vertical-align: middle;\n",
       "    }\n",
       "\n",
       "    .dataframe tbody tr th {\n",
       "        vertical-align: top;\n",
       "    }\n",
       "\n",
       "    .dataframe thead th {\n",
       "        text-align: right;\n",
       "    }\n",
       "</style>\n",
       "<table border=\"1\" class=\"dataframe\">\n",
       "  <thead>\n",
       "    <tr style=\"text-align: right;\">\n",
       "      <th></th>\n",
       "      <th>Mean</th>\n",
       "      <th>Variance</th>\n",
       "      <th>Standard Deviation</th>\n",
       "      <th>Entropy</th>\n",
       "      <th>Skewness</th>\n",
       "      <th>Kurtosis</th>\n",
       "      <th>Contrast</th>\n",
       "      <th>Energy</th>\n",
       "      <th>ASM</th>\n",
       "      <th>Homogeneity</th>\n",
       "      <th>Dissimilarity</th>\n",
       "      <th>Correlation</th>\n",
       "    </tr>\n",
       "  </thead>\n",
       "  <tbody>\n",
       "    <tr>\n",
       "      <th>0</th>\n",
       "      <td>6.535339</td>\n",
       "      <td>619.587845</td>\n",
       "      <td>24.891522</td>\n",
       "      <td>0.109059</td>\n",
       "      <td>4.276477</td>\n",
       "      <td>18.900575</td>\n",
       "      <td>98.613971</td>\n",
       "      <td>0.293314</td>\n",
       "      <td>0.086033</td>\n",
       "      <td>0.530941</td>\n",
       "      <td>4.473346</td>\n",
       "      <td>0.981939</td>\n",
       "    </tr>\n",
       "    <tr>\n",
       "      <th>1</th>\n",
       "      <td>8.749969</td>\n",
       "      <td>805.957634</td>\n",
       "      <td>28.389393</td>\n",
       "      <td>0.266538</td>\n",
       "      <td>3.718116</td>\n",
       "      <td>14.464618</td>\n",
       "      <td>63.858816</td>\n",
       "      <td>0.475051</td>\n",
       "      <td>0.225674</td>\n",
       "      <td>0.651352</td>\n",
       "      <td>3.220072</td>\n",
       "      <td>0.988834</td>\n",
       "    </tr>\n",
       "    <tr>\n",
       "      <th>2</th>\n",
       "      <td>7.341095</td>\n",
       "      <td>1143.808219</td>\n",
       "      <td>33.820234</td>\n",
       "      <td>0.001467</td>\n",
       "      <td>5.061750</td>\n",
       "      <td>26.479563</td>\n",
       "      <td>81.867206</td>\n",
       "      <td>0.031917</td>\n",
       "      <td>0.001019</td>\n",
       "      <td>0.268275</td>\n",
       "      <td>5.981800</td>\n",
       "      <td>0.978014</td>\n",
       "    </tr>\n",
       "    <tr>\n",
       "      <th>3</th>\n",
       "      <td>5.958145</td>\n",
       "      <td>959.711985</td>\n",
       "      <td>30.979219</td>\n",
       "      <td>0.001477</td>\n",
       "      <td>5.677977</td>\n",
       "      <td>33.428845</td>\n",
       "      <td>151.229741</td>\n",
       "      <td>0.032024</td>\n",
       "      <td>0.001026</td>\n",
       "      <td>0.243851</td>\n",
       "      <td>7.700919</td>\n",
       "      <td>0.964189</td>\n",
       "    </tr>\n",
       "    <tr>\n",
       "      <th>4</th>\n",
       "      <td>7.315231</td>\n",
       "      <td>729.540579</td>\n",
       "      <td>27.010009</td>\n",
       "      <td>0.146761</td>\n",
       "      <td>4.283221</td>\n",
       "      <td>19.079108</td>\n",
       "      <td>174.988756</td>\n",
       "      <td>0.343849</td>\n",
       "      <td>0.118232</td>\n",
       "      <td>0.501140</td>\n",
       "      <td>6.834689</td>\n",
       "      <td>0.972789</td>\n",
       "    </tr>\n",
       "    <tr>\n",
       "      <th>...</th>\n",
       "      <td>...</td>\n",
       "      <td>...</td>\n",
       "      <td>...</td>\n",
       "      <td>...</td>\n",
       "      <td>...</td>\n",
       "      <td>...</td>\n",
       "      <td>...</td>\n",
       "      <td>...</td>\n",
       "      <td>...</td>\n",
       "      <td>...</td>\n",
       "      <td>...</td>\n",
       "      <td>...</td>\n",
       "    </tr>\n",
       "    <tr>\n",
       "      <th>3757</th>\n",
       "      <td>21.234512</td>\n",
       "      <td>1208.850174</td>\n",
       "      <td>34.768523</td>\n",
       "      <td>0.063774</td>\n",
       "      <td>2.082079</td>\n",
       "      <td>4.647310</td>\n",
       "      <td>158.437600</td>\n",
       "      <td>0.220666</td>\n",
       "      <td>0.048693</td>\n",
       "      <td>0.487131</td>\n",
       "      <td>5.211739</td>\n",
       "      <td>0.950972</td>\n",
       "    </tr>\n",
       "    <tr>\n",
       "      <th>3758</th>\n",
       "      <td>20.435349</td>\n",
       "      <td>1227.151440</td>\n",
       "      <td>35.030721</td>\n",
       "      <td>0.066763</td>\n",
       "      <td>2.144625</td>\n",
       "      <td>4.882034</td>\n",
       "      <td>161.158675</td>\n",
       "      <td>0.225931</td>\n",
       "      <td>0.051045</td>\n",
       "      <td>0.502712</td>\n",
       "      <td>5.083126</td>\n",
       "      <td>0.952749</td>\n",
       "    </tr>\n",
       "    <tr>\n",
       "      <th>3759</th>\n",
       "      <td>18.011520</td>\n",
       "      <td>1151.582765</td>\n",
       "      <td>33.934978</td>\n",
       "      <td>0.068396</td>\n",
       "      <td>2.308349</td>\n",
       "      <td>5.579498</td>\n",
       "      <td>167.130118</td>\n",
       "      <td>0.228930</td>\n",
       "      <td>0.052409</td>\n",
       "      <td>0.492269</td>\n",
       "      <td>5.103700</td>\n",
       "      <td>0.952181</td>\n",
       "    </tr>\n",
       "    <tr>\n",
       "      <th>3760</th>\n",
       "      <td>13.330429</td>\n",
       "      <td>945.732779</td>\n",
       "      <td>30.752769</td>\n",
       "      <td>0.087872</td>\n",
       "      <td>2.732822</td>\n",
       "      <td>7.757570</td>\n",
       "      <td>223.812932</td>\n",
       "      <td>0.261527</td>\n",
       "      <td>0.068397</td>\n",
       "      <td>0.480064</td>\n",
       "      <td>6.439784</td>\n",
       "      <td>0.940898</td>\n",
       "    </tr>\n",
       "    <tr>\n",
       "      <th>3761</th>\n",
       "      <td>6.110138</td>\n",
       "      <td>480.884025</td>\n",
       "      <td>21.929068</td>\n",
       "      <td>0.118171</td>\n",
       "      <td>4.110669</td>\n",
       "      <td>17.538826</td>\n",
       "      <td>239.251388</td>\n",
       "      <td>0.306224</td>\n",
       "      <td>0.093773</td>\n",
       "      <td>0.494333</td>\n",
       "      <td>6.787329</td>\n",
       "      <td>0.938731</td>\n",
       "    </tr>\n",
       "  </tbody>\n",
       "</table>\n",
       "<p>3762 rows × 12 columns</p>\n",
       "</div>"
      ],
      "text/plain": [
       "           Mean     Variance  Standard Deviation   Entropy  Skewness  \\\n",
       "0      6.535339   619.587845           24.891522  0.109059  4.276477   \n",
       "1      8.749969   805.957634           28.389393  0.266538  3.718116   \n",
       "2      7.341095  1143.808219           33.820234  0.001467  5.061750   \n",
       "3      5.958145   959.711985           30.979219  0.001477  5.677977   \n",
       "4      7.315231   729.540579           27.010009  0.146761  4.283221   \n",
       "...         ...          ...                 ...       ...       ...   \n",
       "3757  21.234512  1208.850174           34.768523  0.063774  2.082079   \n",
       "3758  20.435349  1227.151440           35.030721  0.066763  2.144625   \n",
       "3759  18.011520  1151.582765           33.934978  0.068396  2.308349   \n",
       "3760  13.330429   945.732779           30.752769  0.087872  2.732822   \n",
       "3761   6.110138   480.884025           21.929068  0.118171  4.110669   \n",
       "\n",
       "       Kurtosis    Contrast    Energy       ASM  Homogeneity  Dissimilarity  \\\n",
       "0     18.900575   98.613971  0.293314  0.086033     0.530941       4.473346   \n",
       "1     14.464618   63.858816  0.475051  0.225674     0.651352       3.220072   \n",
       "2     26.479563   81.867206  0.031917  0.001019     0.268275       5.981800   \n",
       "3     33.428845  151.229741  0.032024  0.001026     0.243851       7.700919   \n",
       "4     19.079108  174.988756  0.343849  0.118232     0.501140       6.834689   \n",
       "...         ...         ...       ...       ...          ...            ...   \n",
       "3757   4.647310  158.437600  0.220666  0.048693     0.487131       5.211739   \n",
       "3758   4.882034  161.158675  0.225931  0.051045     0.502712       5.083126   \n",
       "3759   5.579498  167.130118  0.228930  0.052409     0.492269       5.103700   \n",
       "3760   7.757570  223.812932  0.261527  0.068397     0.480064       6.439784   \n",
       "3761  17.538826  239.251388  0.306224  0.093773     0.494333       6.787329   \n",
       "\n",
       "      Correlation  \n",
       "0        0.981939  \n",
       "1        0.988834  \n",
       "2        0.978014  \n",
       "3        0.964189  \n",
       "4        0.972789  \n",
       "...           ...  \n",
       "3757     0.950972  \n",
       "3758     0.952749  \n",
       "3759     0.952181  \n",
       "3760     0.940898  \n",
       "3761     0.938731  \n",
       "\n",
       "[3762 rows x 12 columns]"
      ]
     },
     "execution_count": 12,
     "metadata": {},
     "output_type": "execute_result"
    }
   ],
   "source": [
    "X"
   ]
  },
  {
   "cell_type": "code",
   "execution_count": 13,
   "metadata": {
    "execution": {
     "iopub.execute_input": "2022-09-17T13:38:45.119408Z",
     "iopub.status.busy": "2022-09-17T13:38:45.118569Z",
     "iopub.status.idle": "2022-09-17T13:38:45.132058Z",
     "shell.execute_reply": "2022-09-17T13:38:45.130111Z",
     "shell.execute_reply.started": "2022-09-17T13:38:45.119356Z"
    }
   },
   "outputs": [
    {
     "data": {
      "text/plain": [
       "0       0\n",
       "1       0\n",
       "2       1\n",
       "3       1\n",
       "4       0\n",
       "       ..\n",
       "3757    0\n",
       "3758    0\n",
       "3759    0\n",
       "3760    0\n",
       "3761    0\n",
       "Name: Class, Length: 3762, dtype: int64"
      ]
     },
     "execution_count": 13,
     "metadata": {},
     "output_type": "execute_result"
    }
   ],
   "source": [
    "Y"
   ]
  },
  {
   "cell_type": "code",
   "execution_count": 14,
   "metadata": {
    "execution": {
     "iopub.execute_input": "2022-09-17T13:38:45.136437Z",
     "iopub.status.busy": "2022-09-17T13:38:45.135804Z",
     "iopub.status.idle": "2022-09-17T13:38:45.151419Z",
     "shell.execute_reply": "2022-09-17T13:38:45.149687Z",
     "shell.execute_reply.started": "2022-09-17T13:38:45.136385Z"
    }
   },
   "outputs": [],
   "source": [
    "#Data standardisation\n",
    "from sklearn.preprocessing import StandardScaler\n",
    "scaler = StandardScaler()\n",
    "scaler.fit(X)\n",
    "X = scaler.transform(X)\n"
   ]
  },
  {
   "cell_type": "markdown",
   "metadata": {},
   "source": [
    "# SPLIT DATA IN TRAIN AND TEST"
   ]
  },
  {
   "cell_type": "code",
   "execution_count": 15,
   "metadata": {
    "execution": {
     "iopub.execute_input": "2022-09-17T13:38:45.15454Z",
     "iopub.status.busy": "2022-09-17T13:38:45.15343Z",
     "iopub.status.idle": "2022-09-17T13:38:45.165521Z",
     "shell.execute_reply": "2022-09-17T13:38:45.164328Z",
     "shell.execute_reply.started": "2022-09-17T13:38:45.154478Z"
    }
   },
   "outputs": [],
   "source": [
    "#Train,Test,Split\n",
    "from sklearn.model_selection import train_test_split\n",
    "X_train, X_test, Y_train, Y_test = train_test_split(X, Y, test_size = 0.2, stratify = Y,random_state = 2)"
   ]
  },
  {
   "cell_type": "markdown",
   "metadata": {},
   "source": [
    "# MODEL EVALUATION WITH SVM(SUPPORT VECTOR MACHINE)"
   ]
  },
  {
   "cell_type": "code",
   "execution_count": 16,
   "metadata": {
    "execution": {
     "iopub.execute_input": "2022-09-17T13:38:45.168336Z",
     "iopub.status.busy": "2022-09-17T13:38:45.167103Z",
     "iopub.status.idle": "2022-09-17T13:38:45.176885Z",
     "shell.execute_reply": "2022-09-17T13:38:45.175609Z",
     "shell.execute_reply.started": "2022-09-17T13:38:45.168286Z"
    }
   },
   "outputs": [],
   "source": [
    "#Model Training\n",
    "from sklearn import svm\n",
    "model = svm.SVC(kernel = 'linear')"
   ]
  },
  {
   "cell_type": "code",
   "execution_count": 17,
   "metadata": {
    "execution": {
     "iopub.execute_input": "2022-09-17T13:38:45.179435Z",
     "iopub.status.busy": "2022-09-17T13:38:45.178634Z",
     "iopub.status.idle": "2022-09-17T13:38:45.220741Z",
     "shell.execute_reply": "2022-09-17T13:38:45.219202Z",
     "shell.execute_reply.started": "2022-09-17T13:38:45.179374Z"
    }
   },
   "outputs": [
    {
     "data": {
      "text/plain": [
       "SVC(kernel='linear')"
      ]
     },
     "execution_count": 17,
     "metadata": {},
     "output_type": "execute_result"
    }
   ],
   "source": [
    "model.fit(X_train, Y_train)"
   ]
  },
  {
   "cell_type": "code",
   "execution_count": 18,
   "metadata": {
    "execution": {
     "iopub.execute_input": "2022-09-17T13:38:45.222823Z",
     "iopub.status.busy": "2022-09-17T13:38:45.22235Z",
     "iopub.status.idle": "2022-09-17T13:38:45.237494Z",
     "shell.execute_reply": "2022-09-17T13:38:45.236324Z",
     "shell.execute_reply.started": "2022-09-17T13:38:45.222777Z"
    }
   },
   "outputs": [],
   "source": [
    "#Finding the accuracy score on training dataset\n",
    "from sklearn.metrics import accuracy_score\n",
    "X_train_prediction = model.predict(X_train)\n",
    "train_data_accuracy = accuracy_score(X_train_prediction, Y_train)"
   ]
  },
  {
   "cell_type": "code",
   "execution_count": 19,
   "metadata": {
    "execution": {
     "iopub.execute_input": "2022-09-17T13:38:45.239662Z",
     "iopub.status.busy": "2022-09-17T13:38:45.23885Z",
     "iopub.status.idle": "2022-09-17T13:38:45.252344Z",
     "shell.execute_reply": "2022-09-17T13:38:45.251026Z",
     "shell.execute_reply.started": "2022-09-17T13:38:45.239607Z"
    }
   },
   "outputs": [
    {
     "data": {
      "text/plain": [
       "0.9830508474576272"
      ]
     },
     "execution_count": 19,
     "metadata": {},
     "output_type": "execute_result"
    }
   ],
   "source": [
    "train_data_accuracy"
   ]
  },
  {
   "cell_type": "code",
   "execution_count": 20,
   "metadata": {
    "execution": {
     "iopub.execute_input": "2022-09-17T13:38:45.254316Z",
     "iopub.status.busy": "2022-09-17T13:38:45.25382Z",
     "iopub.status.idle": "2022-09-17T13:38:45.268839Z",
     "shell.execute_reply": "2022-09-17T13:38:45.267655Z",
     "shell.execute_reply.started": "2022-09-17T13:38:45.254271Z"
    }
   },
   "outputs": [
    {
     "name": "stdout",
     "output_type": "stream",
     "text": [
      "0.9907038512616202\n",
      "\t=============================================\n",
      "\n",
      "[[416   0]\n",
      " [  7 330]]\n",
      "\t=============================================\n",
      "\n",
      "              precision    recall  f1-score   support\n",
      "\n",
      "           0       0.98      1.00      0.99       416\n",
      "           1       1.00      0.98      0.99       337\n",
      "\n",
      "    accuracy                           0.99       753\n",
      "   macro avg       0.99      0.99      0.99       753\n",
      "weighted avg       0.99      0.99      0.99       753\n",
      "\n"
     ]
    }
   ],
   "source": [
    "#Finding the accuracy score on test dataset\n",
    "from sklearn.metrics import accuracy_score\n",
    "from sklearn.metrics import classification_report\n",
    "from sklearn.metrics import confusion_matrix\n",
    "X_test_prediction = model.predict(X_test)\n",
    "test_data_accuracy = accuracy_score(X_test_prediction, Y_test)\n",
    "print(accuracy_score(Y_test, X_test_prediction))\n",
    "print(\"\\t=============================================\\n\")\n",
    "print(confusion_matrix(Y_test, X_test_prediction))\n",
    "print(\"\\t=============================================\\n\")\n",
    "print(classification_report(Y_test, X_test_prediction))"
   ]
  },
  {
   "cell_type": "code",
   "execution_count": 21,
   "metadata": {
    "execution": {
     "iopub.execute_input": "2022-09-17T13:38:45.270826Z",
     "iopub.status.busy": "2022-09-17T13:38:45.270279Z",
     "iopub.status.idle": "2022-09-17T13:38:45.283464Z",
     "shell.execute_reply": "2022-09-17T13:38:45.281967Z",
     "shell.execute_reply.started": "2022-09-17T13:38:45.27079Z"
    }
   },
   "outputs": [
    {
     "data": {
      "text/plain": [
       "0.9907038512616202"
      ]
     },
     "execution_count": 21,
     "metadata": {},
     "output_type": "execute_result"
    }
   ],
   "source": [
    "test_data_accuracy"
   ]
  },
  {
   "cell_type": "code",
   "execution_count": 42,
   "metadata": {
    "execution": {
     "iopub.execute_input": "2022-09-17T13:38:45.286353Z",
     "iopub.status.busy": "2022-09-17T13:38:45.285516Z",
     "iopub.status.idle": "2022-09-17T13:38:45.299968Z",
     "shell.execute_reply": "2022-09-17T13:38:45.298691Z",
     "shell.execute_reply.started": "2022-09-17T13:38:45.286299Z"
    }
   },
   "outputs": [
    {
     "name": "stderr",
     "output_type": "stream",
     "text": [
      "F:\\anaconda3\\lib\\site-packages\\sklearn\\base.py:450: UserWarning: X does not have valid feature names, but StandardScaler was fitted with feature names\n",
      "  warnings.warn(\n"
     ]
    }
   ],
   "source": [
    "#Predicting system\n",
    "data = (62,0,138,294,1,1,106,0,1.9,1,3,2)\n",
    "data_array = np.asarray(data)\n",
    "data_reshape = data_array.reshape(1, -1)\n",
    "data_standard = scaler.transform(data_reshape)\n",
    "prediction = model.predict(data_standard)\n",
    "ones=0\n",
    "if(prediction[0] == 1):\n",
    "    ones=ones+1"
   ]
  },
  {
   "cell_type": "markdown",
   "metadata": {},
   "source": [
    "# MODEL EVALUATION WITH LOGISTIC REGRESSION"
   ]
  },
  {
   "cell_type": "code",
   "execution_count": 43,
   "metadata": {
    "execution": {
     "iopub.execute_input": "2022-09-17T13:38:45.301786Z",
     "iopub.status.busy": "2022-09-17T13:38:45.301425Z",
     "iopub.status.idle": "2022-09-17T13:38:45.315041Z",
     "shell.execute_reply": "2022-09-17T13:38:45.313442Z",
     "shell.execute_reply.started": "2022-09-17T13:38:45.301755Z"
    }
   },
   "outputs": [],
   "source": [
    "#Model Training\n",
    "from sklearn.linear_model import LogisticRegression\n",
    "model = LogisticRegression()"
   ]
  },
  {
   "cell_type": "code",
   "execution_count": 44,
   "metadata": {
    "execution": {
     "iopub.execute_input": "2022-09-17T13:38:45.317922Z",
     "iopub.status.busy": "2022-09-17T13:38:45.316718Z",
     "iopub.status.idle": "2022-09-17T13:38:45.344672Z",
     "shell.execute_reply": "2022-09-17T13:38:45.343296Z",
     "shell.execute_reply.started": "2022-09-17T13:38:45.317865Z"
    }
   },
   "outputs": [
    {
     "data": {
      "text/plain": [
       "LogisticRegression()"
      ]
     },
     "execution_count": 44,
     "metadata": {},
     "output_type": "execute_result"
    }
   ],
   "source": [
    "model.fit(X_train, Y_train)"
   ]
  },
  {
   "cell_type": "code",
   "execution_count": 45,
   "metadata": {
    "execution": {
     "iopub.execute_input": "2022-09-17T13:38:45.347429Z",
     "iopub.status.busy": "2022-09-17T13:38:45.346534Z",
     "iopub.status.idle": "2022-09-17T13:38:45.362861Z",
     "shell.execute_reply": "2022-09-17T13:38:45.360768Z",
     "shell.execute_reply.started": "2022-09-17T13:38:45.347375Z"
    }
   },
   "outputs": [],
   "source": [
    "#Finding the accuracy score on training dataset\n",
    "from sklearn.metrics import accuracy_score\n",
    "X_train_prediction = model.predict(X_train)\n",
    "train_data_accuracy = accuracy_score(X_train_prediction, Y_train)"
   ]
  },
  {
   "cell_type": "code",
   "execution_count": 46,
   "metadata": {
    "execution": {
     "iopub.execute_input": "2022-09-17T13:38:45.366787Z",
     "iopub.status.busy": "2022-09-17T13:38:45.365193Z",
     "iopub.status.idle": "2022-09-17T13:38:45.377293Z",
     "shell.execute_reply": "2022-09-17T13:38:45.375489Z",
     "shell.execute_reply.started": "2022-09-17T13:38:45.366733Z"
    }
   },
   "outputs": [
    {
     "data": {
      "text/plain": [
       "0.9813891658358258"
      ]
     },
     "execution_count": 46,
     "metadata": {},
     "output_type": "execute_result"
    }
   ],
   "source": [
    "train_data_accuracy"
   ]
  },
  {
   "cell_type": "code",
   "execution_count": 47,
   "metadata": {
    "execution": {
     "iopub.execute_input": "2022-09-17T13:38:45.380831Z",
     "iopub.status.busy": "2022-09-17T13:38:45.379376Z",
     "iopub.status.idle": "2022-09-17T13:38:45.391414Z",
     "shell.execute_reply": "2022-09-17T13:38:45.389547Z",
     "shell.execute_reply.started": "2022-09-17T13:38:45.380778Z"
    }
   },
   "outputs": [],
   "source": [
    "#Finding the accuracy score on test dataset\n",
    "from sklearn.metrics import accuracy_score\n",
    "X_test_prediction = model.predict(X_test)\n",
    "test_data_accuracy = accuracy_score(X_test_prediction, Y_test)"
   ]
  },
  {
   "cell_type": "code",
   "execution_count": 48,
   "metadata": {
    "execution": {
     "iopub.execute_input": "2022-09-17T13:38:45.401086Z",
     "iopub.status.busy": "2022-09-17T13:38:45.399846Z",
     "iopub.status.idle": "2022-09-17T13:38:45.411502Z",
     "shell.execute_reply": "2022-09-17T13:38:45.409688Z",
     "shell.execute_reply.started": "2022-09-17T13:38:45.400985Z"
    }
   },
   "outputs": [
    {
     "data": {
      "text/plain": [
       "0.9907038512616202"
      ]
     },
     "execution_count": 48,
     "metadata": {},
     "output_type": "execute_result"
    }
   ],
   "source": [
    "test_data_accuracy"
   ]
  },
  {
   "cell_type": "code",
   "execution_count": 49,
   "metadata": {
    "execution": {
     "iopub.execute_input": "2022-09-17T13:38:45.414875Z",
     "iopub.status.busy": "2022-09-17T13:38:45.413452Z",
     "iopub.status.idle": "2022-09-17T13:38:45.428932Z",
     "shell.execute_reply": "2022-09-17T13:38:45.427569Z",
     "shell.execute_reply.started": "2022-09-17T13:38:45.414826Z"
    }
   },
   "outputs": [
    {
     "name": "stderr",
     "output_type": "stream",
     "text": [
      "F:\\anaconda3\\lib\\site-packages\\sklearn\\base.py:450: UserWarning: X does not have valid feature names, but StandardScaler was fitted with feature names\n",
      "  warnings.warn(\n"
     ]
    }
   ],
   "source": [
    "#Predicting system\n",
    "data = (62,0,138,294,1,1,106,0,5.5,1,3,2)\n",
    "data_array = np.asarray(data)\n",
    "data_reshape = data_array.reshape(1, -1)\n",
    "data_standard = scaler.transform(data_reshape)\n",
    "prediction = model.predict(data_standard)\n",
    "if(prediction[0] == 1):\n",
    "    ones=ones+1"
   ]
  },
  {
   "cell_type": "code",
   "execution_count": 50,
   "metadata": {},
   "outputs": [
    {
     "data": {
      "text/plain": [
       "0.9814077025232404"
      ]
     },
     "execution_count": 50,
     "metadata": {},
     "output_type": "execute_result"
    }
   ],
   "source": [
    "knn=KNeighborsClassifier( algorithm='auto' ,leaf_size= 50,n_neighbors= 5)\n",
    "knn.fit(X_train,Y_train )\n",
    "knn.score ( X_test,Y_test)"
   ]
  },
  {
   "cell_type": "code",
   "execution_count": 51,
   "metadata": {},
   "outputs": [
    {
     "name": "stderr",
     "output_type": "stream",
     "text": [
      "F:\\anaconda3\\lib\\site-packages\\sklearn\\base.py:450: UserWarning: X does not have valid feature names, but StandardScaler was fitted with feature names\n",
      "  warnings.warn(\n"
     ]
    }
   ],
   "source": [
    "#Predicting system\n",
    "data = (62,0,138,294,1,1,106,0,5.5,1,3,2)\n",
    "data_array = np.asarray(data)\n",
    "data_reshape = data_array.reshape(1, -1)\n",
    "data_standard = scaler.transform(data_reshape)\n",
    "prediction = knn.predict(data_standard)\n",
    "if(prediction[0] == 1):\n",
    "    ones=ones+1"
   ]
  },
  {
   "cell_type": "code",
   "execution_count": 52,
   "metadata": {},
   "outputs": [
    {
     "name": "stdout",
     "output_type": "stream",
     "text": [
      "No Brain Cancer\n"
     ]
    }
   ],
   "source": [
    "if(ones>=2):\n",
    "    print('Brain Cancer')\n",
    "else:\n",
    "    print('No Brain Cancer')"
   ]
  },
  {
   "cell_type": "code",
   "execution_count": null,
   "metadata": {},
   "outputs": [],
   "source": []
  }
 ],
 "metadata": {
  "kernelspec": {
   "display_name": "Python 3 (ipykernel)",
   "language": "python",
   "name": "python3"
  },
  "language_info": {
   "codemirror_mode": {
    "name": "ipython",
    "version": 3
   },
   "file_extension": ".py",
   "mimetype": "text/x-python",
   "name": "python",
   "nbconvert_exporter": "python",
   "pygments_lexer": "ipython3",
   "version": "3.9.12"
  }
 },
 "nbformat": 4,
 "nbformat_minor": 4
}
